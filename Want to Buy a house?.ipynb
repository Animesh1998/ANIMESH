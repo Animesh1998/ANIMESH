{
  "cells": [
    {
      "cell_type": "code",
      "execution_count": 9,
      "metadata": {
        "_cell_guid": "871ecc2d-d300-5b77-1ccc-a8ed1896c0e7"
      },
      "outputs": [],
      "source": [
        "%matplotlib inline\n",
        "\n",
        "# linear algebra and data manipulation\n",
        "import numpy as np\n",
        "import pandas as pd\n",
        "\n",
        "# for visulization\n",
        "import seaborn as sns\n",
        "import matplotlib.pyplot as plt"
      ]
    },
    {
      "cell_type": "code",
      "execution_count": 10,
      "metadata": {
        "_cell_guid": "a8c8c5cf-0d55-fc84-bb50-2ac7e16736a8"
      },
      "outputs": [],
      "source": [
        "# loading data and drop '#' column\n",
        "pokemon_df = pd.read_csv(\"../input/Pokemon.csv\")\n",
        "pokemon_df = pokemon_df.drop([\"#\"], axis = 1)\n",
        "pokemon_df.head()"
      ]
    },
    {
      "cell_type": "code",
      "execution_count": 11,
      "metadata": {
        "_cell_guid": "e15e06ea-e4c8-96ce-e4a8-e3c43db71085"
      },
      "outputs": [],
      "source": [
        "pokemon_df.info()"
      ]
    },
    {
      "cell_type": "code",
      "execution_count": 12,
      "metadata": {
        "_cell_guid": "51e23176-32c3-0200-4732-ff61b346494c",
        "collapsed": true
      },
      "outputs": [],
      "source": [
        "# making two new features\n",
        "# TotalDefense = Defense + Sp. Def\n",
        "# TotalAttack = Attack + Sp. Atk\n",
        "pokemon_df[\"TotalDefense\"] = pokemon_df[\"Defense\"] + pokemon_df[\"Sp. Def\"]\n",
        "pokemon_df[\"TotalAttack\"] = pokemon_df[\"Attack\"] + pokemon_df[\"Sp. Atk\"]"
      ]
    },
    {
      "cell_type": "code",
      "execution_count": 13,
      "metadata": {
        "_cell_guid": "906efe45-6c58-1d09-8944-598f9ad39415"
      },
      "outputs": [],
      "source": [
        "# Type 2 = Type 1 if Type 2 is nan\n",
        "pokemon_df[\"Type 2\"].fillna(pokemon_df[\"Type 1\"], inplace=True)\n",
        "\n",
        "# change Legendary to numeric\n",
        "pokemon_df[\"Legendary\"] = pokemon_df[\"Legendary\"].astype(int)"
      ]
    },
    {
      "cell_type": "markdown",
      "metadata": {
        "_cell_guid": "a7f68ce4-45c8-ffeb-acc7-9ce8da8354a0"
      },
      "source": [
        ""
      ]
    },
    {
      "cell_type": "code",
      "execution_count": 14,
      "metadata": {
        "_cell_guid": "2c4fd765-e6ae-c093-6946-b31ab5137511"
      },
      "outputs": [],
      "source": [
        "# heat map of Total power\n",
        "plt.rcParams['figure.figsize'] = (20, 10)\n",
        "heatMap_df = pokemon_df.groupby(by = [\"Type 1\", \"Type 2\"], as_index = False).mean()\n",
        "totalHeatMap = heatMap_df.pivot(values='Total', index='Type 1', columns='Type 2')\n",
        "ax = sns.heatmap(totalHeatMap, linewidths = .5)"
      ]
    },
    {
      "cell_type": "markdown",
      "metadata": {
        "_cell_guid": "b6d9b319-5525-9dcc-f495-8fea5eca96e0"
      },
      "source": [
        ""
      ]
    },
    {
      "cell_type": "code",
      "execution_count": 15,
      "metadata": {
        "_cell_guid": "4d67ecea-9695-6de2-bae1-d807b3d7d777"
      },
      "outputs": [],
      "source": [
        "legendaryHeatMap = heatMap_df.pivot(values='Legendary', index='Type 1', columns='Type 2')\n",
        "ax = sns.heatmap(legendaryHeatMap, linewidths = .5)"
      ]
    }
  ],
  "metadata": {
    "_change_revision": 102,
    "_is_fork": false,
    "kernelspec": {
      "display_name": "Python 3",
      "language": "python",
      "name": "python3"
    },
    "language_info": {
      "codemirror_mode": {
        "name": "ipython",
        "version": 3
      },
      "file_extension": ".py",
      "mimetype": "text/x-python",
      "name": "python",
      "nbconvert_exporter": "python",
      "pygments_lexer": "ipython3",
      "version": "3.5.2"
    }
  },
  "nbformat": 4,
  "nbformat_minor": 0
}
